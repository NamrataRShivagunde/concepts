{
  "nbformat": 4,
  "nbformat_minor": 0,
  "metadata": {
    "colab": {
      "name": "Demo_DeepLearning.ipynb",
      "provenance": [],
      "collapsed_sections": []
    },
    "kernelspec": {
      "name": "python3",
      "display_name": "Python 3"
    }
  },
  "cells": [
    {
      "cell_type": "markdown",
      "metadata": {
        "id": "PS9v9Mum6G_4",
        "colab_type": "text"
      },
      "source": [
        "**Reference:  Introduction to Tensorflow for Artificial Intelligence, Machine Learning and Deep Learning on Coursera by DeepLearning.AI**"
      ]
    },
    {
      "cell_type": "code",
      "metadata": {
        "id": "CFhe6ORQuASw",
        "colab_type": "code",
        "colab": {
          "base_uri": "https://localhost:8080/",
          "height": 34
        },
        "outputId": "409e1be0-f9e0-4ac1-82f9-389d3e426934"
      },
      "source": [
        "import tensorflow as tf\n",
        "print(tf.__version__)"
      ],
      "execution_count": 60,
      "outputs": [
        {
          "output_type": "stream",
          "text": [
            "1.15.0\n"
          ],
          "name": "stdout"
        }
      ]
    },
    {
      "cell_type": "code",
      "metadata": {
        "id": "rsyE73zVuUN8",
        "colab_type": "code",
        "colab": {}
      },
      "source": [
        "mnist = tf.keras.datasets.fashion_mnist"
      ],
      "execution_count": 0,
      "outputs": []
    },
    {
      "cell_type": "code",
      "metadata": {
        "id": "eYP-dduEubSh",
        "colab_type": "code",
        "colab": {}
      },
      "source": [
        "(X, y),(X_test, y_test)= mnist.load_data()"
      ],
      "execution_count": 0,
      "outputs": []
    },
    {
      "cell_type": "markdown",
      "metadata": {
        "id": "_wOaRx-XwEbd",
        "colab_type": "text"
      },
      "source": [
        "https://github.com/zalandoresearch/fashion-mnist"
      ]
    },
    {
      "cell_type": "code",
      "metadata": {
        "id": "6SfPlNj4udw_",
        "colab_type": "code",
        "colab": {
          "base_uri": "https://localhost:8080/",
          "height": 282
        },
        "outputId": "b49ac89c-9655-4e68-f262-ce9de5534a54"
      },
      "source": [
        "import matplotlib.pyplot as plt\n",
        "plt.imshow(X[6])"
      ],
      "execution_count": 63,
      "outputs": [
        {
          "output_type": "execute_result",
          "data": {
            "text/plain": [
              "<matplotlib.image.AxesImage at 0x7f58e247eef0>"
            ]
          },
          "metadata": {
            "tags": []
          },
          "execution_count": 63
        },
        {
          "output_type": "display_data",
          "data": {
            "image/png": "[encoded data removed]",
            "text/plain": [
              "<Figure size 432x288 with 1 Axes>"
            ]
          },
          "metadata": {
            "tags": []
          }
        }
      ]
    },
    {
      "cell_type": "code",
      "metadata": {
        "id": "rwSgTb14uhWn",
        "colab_type": "code",
        "colab": {
          "base_uri": "https://localhost:8080/",
          "height": 969
        },
        "outputId": "5058526e-2bd4-4983-be56-2e540c2a3ac3"
      },
      "source": [
        "print(X[6])"
      ],
      "execution_count": 64,
      "outputs": [
        {
          "output_type": "stream",
          "text": [
            "[[  0   0   0   0   0   0   0   0   0   0   0   0   0   0   0   0   0   0\n",
            "    0   0   0   0   0   0   0   0   0   0]\n",
            " [  0   0   0   0   0   0   0   0   0   0   0   0   0   0   0   0   0   0\n",
            "    0   0   0   0   0   0   0   0   0   0]\n",
            " [  0   0   0   0   0   0   0   0   0   0   0   0   0   0   0   0   0   0\n",
            "    0   0   0   0   0   0   0   0   0   0]\n",
            " [  0   0   0   0   0   0   0   0   0   0   0   0   0   0   0   0   0   0\n",
            "    0   0   0   0   0   0   0   0   0   0]\n",
            " [  0   0   0   0   0   0   0   0   0   0   0   0   0   0   0   0   0   0\n",
            "    0   0   0   0   0   0   0   0   0   0]\n",
            " [  0   0   0   0   0   0   0   0   0   0   0   0   0   0   0   0   0   0\n",
            "    0   0   0   0   0   0   0   0   0   0]\n",
            " [  0   0   0   0   0   0   0   0   0   0   0   0   0   0   0   0   0   0\n",
            "    0   0   0   0   0   0   0   0   0   0]\n",
            " [  0   0   0   0   0   0   0   0   0   0   0   0   0   0   0   0   0   0\n",
            "    0   0   0   0   0   0   0   0   0   0]\n",
            " [  0   0   0   0   0   0   0   0   0   1   1   0   3   1   0   4   0   0\n",
            "    0   2   0   0   0   0   5   1   0   0]\n",
            " [  0   0   0   0   0   0   0   0   0   0   0   0   4   0   0   0   0   0\n",
            "  106 229   0   0   0   0   0   0   0   0]\n",
            " [  0   0   0   0   0   0   0   0   0   0   1   0   0   0   0  90 138 223\n",
            "  214 209 167   0   0   0   6 124   0   0]\n",
            " [  0   0   0   0   0   0   0   0   1   0   0   0  37 122 179 249 214 195\n",
            "  181 213 241   0   0   0  94 179   0   0]\n",
            " [  0   0   0   2   0   6   0   0   0   0  16 149 236 226 201 195 200 204\n",
            "  155 209 116   0  22 109 251  35  51   0]\n",
            " [  0   0   1   3   0   0   0   0  67 150 240 221 194 190 204 214 205 195\n",
            "  207 185 206 233 224 179   2  10  22   0]\n",
            " [  0   0   0   0   0   0 110 214 237 209 196 192 215 215 213 213 207 193\n",
            "  186 199 206 175   0   0 124 230 200  36]\n",
            " [  0  50 119 158 166 192 204 198 187 202 203 211 214 204 209 210 204 197\n",
            "  191 190 191 229 230 242 214 193 203 137]\n",
            " [108 190 199 200 194 199 194 195 199 200 189 187 191 189 197 198 205 200\n",
            "  200 208 213 215 212 213 209 202 216 137]\n",
            " [ 15  55 114 157 188 207 216 220 217 219 221 242 240 243 249 253 255 255\n",
            "  243 232 226 222 221 213 215 198 209  62]\n",
            " [ 16  11   0   0   7  40  76 108 134 142 143 145 143 123 111  92  76  61\n",
            "   45  35  25  25  31  32  32  12   1   0]\n",
            " [  0  11  25  26  26  22  12  20  15  15  18  17  19  27  30  36  41  49\n",
            "   57  66  79  84  79  83  93  80  75  45]\n",
            " [  0   0   0   0   0   9  14  17  27  34  39  39  42  44  41  41  43  48\n",
            "   43  30  31  35  40  37  40  37  26   0]\n",
            " [  0   0   0   0   0   0   0   0   0   0   0   0   0   0   0   0   0   0\n",
            "    0   0   0   0   0   0   0   0   0   0]\n",
            " [  0   0   0   0   0   0   0   0   0   0   0   0   0   0   0   0   0   0\n",
            "    0   0   0   0   0   0   0   0   0   0]\n",
            " [  0   0   0   0   0   0   0   0   0   0   0   0   0   0   0   0   0   0\n",
            "    0   0   0   0   0   0   0   0   0   0]\n",
            " [  0   0   0   0   0   0   0   0   0   0   0   0   0   0   0   0   0   0\n",
            "    0   0   0   0   0   0   0   0   0   0]\n",
            " [  0   0   0   0   0   0   0   0   0   0   0   0   0   0   0   0   0   0\n",
            "    0   0   0   0   0   0   0   0   0   0]\n",
            " [  0   0   0   0   0   0   0   0   0   0   0   0   0   0   0   0   0   0\n",
            "    0   0   0   0   0   0   0   0   0   0]\n",
            " [  0   0   0   0   0   0   0   0   0   0   0   0   0   0   0   0   0   0\n",
            "    0   0   0   0   0   0   0   0   0   0]]\n"
          ],
          "name": "stdout"
        }
      ]
    },
    {
      "cell_type": "code",
      "metadata": {
        "id": "7fdVUoXSvGqy",
        "colab_type": "code",
        "colab": {
          "base_uri": "https://localhost:8080/",
          "height": 34
        },
        "outputId": "31d56f3a-9efe-4de5-d6f0-d9585494abd6"
      },
      "source": [
        "print(y[6])"
      ],
      "execution_count": 65,
      "outputs": [
        {
          "output_type": "stream",
          "text": [
            "7\n"
          ],
          "name": "stdout"
        }
      ]
    },
    {
      "cell_type": "code",
      "metadata": {
        "id": "8UNYWcPDw1yN",
        "colab_type": "code",
        "colab": {}
      },
      "source": [
        "X = X/1.0\n",
        "y = y/1.0\n"
      ],
      "execution_count": 0,
      "outputs": []
    },
    {
      "cell_type": "code",
      "metadata": {
        "id": "c15EgzdOvQ0n",
        "colab_type": "code",
        "colab": {}
      },
      "source": [
        "model = tf.keras.Sequential([tf.keras.layers.Flatten(),\n",
        "                             tf.keras.layers.Dense(200,activation=tf.nn.relu),\n",
        "                             tf.keras.layers.Dense(10, activation=tf.nn.softmax)])"
      ],
      "execution_count": 0,
      "outputs": []
    },
    {
      "cell_type": "code",
      "metadata": {
        "id": "N20w3-3ewbwo",
        "colab_type": "code",
        "colab": {}
      },
      "source": [
        "model.compile(optimizer=tf.train.AdamOptimizer(),\n",
        "              loss = 'sparse_categorical_crossentropy',\n",
        "              metrics = ['accuracy'])"
      ],
      "execution_count": 0,
      "outputs": []
    },
    {
      "cell_type": "code",
      "metadata": {
        "id": "2UInr40vwdMm",
        "colab_type": "code",
        "colab": {
          "base_uri": "https://localhost:8080/",
          "height": 221
        },
        "outputId": "e2581318-70b0-4f7a-9710-a8c63f3f8c76"
      },
      "source": [
        "model.fit(X, y, epochs =5)"
      ],
      "execution_count": 69,
      "outputs": [
        {
          "output_type": "stream",
          "text": [
            "Train on 60000 samples\n",
            "Epoch 1/5\n",
            "60000/60000 [==============================] - 5s 80us/sample - loss: 3.3824 - acc: 0.7243\n",
            "Epoch 2/5\n",
            "60000/60000 [==============================] - 5s 78us/sample - loss: 0.6017 - acc: 0.7948\n",
            "Epoch 3/5\n",
            "60000/60000 [==============================] - 5s 79us/sample - loss: 0.5241 - acc: 0.8199\n",
            "Epoch 4/5\n",
            "60000/60000 [==============================] - 5s 78us/sample - loss: 0.4991 - acc: 0.8271\n",
            "Epoch 5/5\n",
            "60000/60000 [==============================] - 5s 79us/sample - loss: 0.4880 - acc: 0.8315\n"
          ],
          "name": "stdout"
        },
        {
          "output_type": "execute_result",
          "data": {
            "text/plain": [
              "<tensorflow.python.keras.callbacks.History at 0x7f58e25030f0>"
            ]
          },
          "metadata": {
            "tags": []
          },
          "execution_count": 69
        }
      ]
    },
    {
      "cell_type": "code",
      "metadata": {
        "id": "67IYwSsVwf12",
        "colab_type": "code",
        "colab": {
          "base_uri": "https://localhost:8080/",
          "height": 51
        },
        "outputId": "223d562d-e2b9-43a8-f69d-9d4513bdd0b6"
      },
      "source": [
        "model.evaluate(X_test,y_test)"
      ],
      "execution_count": 70,
      "outputs": [
        {
          "output_type": "stream",
          "text": [
            "10000/10000 [==============================] - 0s 44us/sample - loss: 0.5313 - acc: 0.8269\n"
          ],
          "name": "stdout"
        },
        {
          "output_type": "execute_result",
          "data": {
            "text/plain": [
              "[0.5313063164710998, 0.8269]"
            ]
          },
          "metadata": {
            "tags": []
          },
          "execution_count": 70
        }
      ]
    },
    {
      "cell_type": "code",
      "metadata": {
        "id": "v32Duk08xEQ3",
        "colab_type": "code",
        "colab": {}
      },
      "source": [
        "classifications = model.predict(X_test)"
      ],
      "execution_count": 0,
      "outputs": []
    },
    {
      "cell_type": "code",
      "metadata": {
        "id": "ka2snJ44xE6H",
        "colab_type": "code",
        "colab": {
          "base_uri": "https://localhost:8080/",
          "height": 51
        },
        "outputId": "1a26fdd6-13ff-414c-be9c-52c98236bb88"
      },
      "source": [
        "print(classifications[0])"
      ],
      "execution_count": 72,
      "outputs": [
        {
          "output_type": "stream",
          "text": [
            "[8.1211487e-24 1.0777025e-13 9.4839519e-22 9.0397894e-09 2.1871475e-22\n",
            " 5.8208914e-03 1.1298889e-19 4.4771191e-02 1.2306034e-17 9.4940788e-01]\n"
          ],
          "name": "stdout"
        }
      ]
    },
    {
      "cell_type": "code",
      "metadata": {
        "id": "LW1q9a62xIa-",
        "colab_type": "code",
        "colab": {
          "base_uri": "https://localhost:8080/",
          "height": 34
        },
        "outputId": "9f2c75b1-144d-4e24-c571-eb10955cc874"
      },
      "source": [
        "print(y_test[0])"
      ],
      "execution_count": 73,
      "outputs": [
        {
          "output_type": "stream",
          "text": [
            "9\n"
          ],
          "name": "stdout"
        }
      ]
    },
    {
      "cell_type": "code",
      "metadata": {
        "id": "YJ7aq1tKxKJG",
        "colab_type": "code",
        "colab": {
          "base_uri": "https://localhost:8080/",
          "height": 34
        },
        "outputId": "339f1f1a-bc33-404d-a4f7-f3bcbe7317de"
      },
      "source": [
        "classifications.shape"
      ],
      "execution_count": 74,
      "outputs": [
        {
          "output_type": "execute_result",
          "data": {
            "text/plain": [
              "(10000, 10)"
            ]
          },
          "metadata": {
            "tags": []
          },
          "execution_count": 74
        }
      ]
    },
    {
      "cell_type": "code",
      "metadata": {
        "id": "34Kz1xorypwH",
        "colab_type": "code",
        "colab": {
          "base_uri": "https://localhost:8080/",
          "height": 34
        },
        "outputId": "dff40d0c-b6f9-4ef1-d94a-600e02d0d900"
      },
      "source": [
        "a = y_test\n",
        "a.shape"
      ],
      "execution_count": 75,
      "outputs": [
        {
          "output_type": "execute_result",
          "data": {
            "text/plain": [
              "(10000,)"
            ]
          },
          "metadata": {
            "tags": []
          },
          "execution_count": 75
        }
      ]
    },
    {
      "cell_type": "code",
      "metadata": {
        "id": "Dk2H7okOz7Bw",
        "colab_type": "code",
        "colab": {}
      },
      "source": [
        ""
      ],
      "execution_count": 0,
      "outputs": []
    }
  ]
}