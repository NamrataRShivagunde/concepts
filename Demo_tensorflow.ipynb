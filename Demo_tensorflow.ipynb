{
  "nbformat": 4,
  "nbformat_minor": 0,
  "metadata": {
    "colab": {
      "name": "Demo_tensorflow.ipynb",
      "provenance": [],
      "collapsed_sections": []
    },
    "kernelspec": {
      "name": "python3",
      "display_name": "Python 3"
    }
  },
  "cells": [
    {
      "cell_type": "markdown",
      "metadata": {
        "id": "8VgP4G2L5W-K",
        "colab_type": "text"
      },
      "source": [
        "**Reference:  Introduction to Tensorflow for Artificial Intelligence, Machine Learning and Deep Learning on Coursera by DeepLearning.AI**"
      ]
    },
    {
      "cell_type": "code",
      "metadata": {
        "id": "UAkS9edMrTyz",
        "colab_type": "code",
        "colab": {}
      },
      "source": [
        "import tensorflow as tf\n",
        "#from tensorflow import keras"
      ],
      "execution_count": 0,
      "outputs": []
    },
    {
      "cell_type": "code",
      "metadata": {
        "id": "Qmq4nSndriL5",
        "colab_type": "code",
        "colab": {}
      },
      "source": [
        "model = tf.keras.Sequential([keras.layers.Dense\n",
        "                             (units =1, input_shape=[1])])"
      ],
      "execution_count": 0,
      "outputs": []
    },
    {
      "cell_type": "code",
      "metadata": {
        "id": "kH8q6pYtryyA",
        "colab_type": "code",
        "colab": {}
      },
      "source": [
        "model.compile(optimizer = 'sgd', loss = 'mean_squared_error')"
      ],
      "execution_count": 0,
      "outputs": []
    },
    {
      "cell_type": "code",
      "metadata": {
        "id": "aGAyudJYsZQT",
        "colab_type": "code",
        "colab": {}
      },
      "source": [
        "import numpy as np\n",
        "x = np.array([-1,0,1,2,3,4])\n",
        "y = np.array([-3,-1,1,3,5,7])"
      ],
      "execution_count": 0,
      "outputs": []
    },
    {
      "cell_type": "code",
      "metadata": {
        "id": "HNU9cPn5st54",
        "colab_type": "code",
        "colab": {}
      },
      "source": [
        "import matplotlib.pyplot as plt"
      ],
      "execution_count": 0,
      "outputs": []
    },
    {
      "cell_type": "code",
      "metadata": {
        "id": "BpwqTRBWs1t_",
        "colab_type": "code",
        "colab": {
          "base_uri": "https://localhost:8080/",
          "height": 265
        },
        "outputId": "b164e6fc-2525-45c1-93db-f6b760f6f2cd"
      },
      "source": [
        "plt.plot(x,y)\n",
        "plt.show()"
      ],
      "execution_count": 28,
      "outputs": [
        {
          "output_type": "display_data",
          "data": {
            "image/png": "[encoded data removed]",
            "text/plain": [
              "<Figure size 432x288 with 1 Axes>"
            ]
          },
          "metadata": {
            "tags": []
          }
        }
      ]
    },
    {
      "cell_type": "code",
      "metadata": {
        "id": "QC5ZcJjrs6rY",
        "colab_type": "code",
        "colab": {
          "base_uri": "https://localhost:8080/",
          "height": 1000
        },
        "outputId": "0d15510d-901f-4016-f54a-9f651bf5b79f"
      },
      "source": [
        "model.fit(x,y,epochs=100)"
      ],
      "execution_count": 29,
      "outputs": [
        {
          "output_type": "stream",
          "text": [
            "Train on 6 samples\n",
            "Epoch 1/100\n",
            "6/6 [==============================] - 0s 9ms/sample - loss: 50.0322\n",
            "Epoch 2/100\n",
            "6/6 [==============================] - 0s 261us/sample - loss: 39.7571\n",
            "Epoch 3/100\n",
            "6/6 [==============================] - 0s 278us/sample - loss: 31.6651\n",
            "Epoch 4/100\n",
            "6/6 [==============================] - 0s 278us/sample - loss: 25.2907\n",
            "Epoch 5/100\n",
            "6/6 [==============================] - 0s 210us/sample - loss: 20.2679\n",
            "Epoch 6/100\n",
            "6/6 [==============================] - 0s 267us/sample - loss: 16.3086\n",
            "Epoch 7/100\n",
            "6/6 [==============================] - 0s 257us/sample - loss: 13.1862\n",
            "Epoch 8/100\n",
            "6/6 [==============================] - 0s 285us/sample - loss: 10.7223\n",
            "Epoch 9/100\n",
            "6/6 [==============================] - 0s 196us/sample - loss: 8.7767\n",
            "Epoch 10/100\n",
            "6/6 [==============================] - 0s 221us/sample - loss: 7.2389\n",
            "Epoch 11/100\n",
            "6/6 [==============================] - 0s 241us/sample - loss: 6.0223\n",
            "Epoch 12/100\n",
            "6/6 [==============================] - 0s 187us/sample - loss: 5.0583\n",
            "Epoch 13/100\n",
            "6/6 [==============================] - 0s 170us/sample - loss: 4.2934\n",
            "Epoch 14/100\n",
            "6/6 [==============================] - 0s 728us/sample - loss: 3.6851\n",
            "Epoch 15/100\n",
            "6/6 [==============================] - 0s 354us/sample - loss: 3.2003\n",
            "Epoch 16/100\n",
            "6/6 [==============================] - 0s 339us/sample - loss: 2.8126\n",
            "Epoch 17/100\n",
            "6/6 [==============================] - 0s 348us/sample - loss: 2.5016\n",
            "Epoch 18/100\n",
            "6/6 [==============================] - 0s 275us/sample - loss: 2.2509\n",
            "Epoch 19/100\n",
            "6/6 [==============================] - 0s 459us/sample - loss: 2.0479\n",
            "Epoch 20/100\n",
            "6/6 [==============================] - 0s 314us/sample - loss: 1.8825\n",
            "Epoch 21/100\n",
            "6/6 [==============================] - 0s 304us/sample - loss: 1.7468\n",
            "Epoch 22/100\n",
            "6/6 [==============================] - 0s 219us/sample - loss: 1.6346\n",
            "Epoch 23/100\n",
            "6/6 [==============================] - 0s 222us/sample - loss: 1.5409\n",
            "Epoch 24/100\n",
            "6/6 [==============================] - 0s 413us/sample - loss: 1.4620\n",
            "Epoch 25/100\n",
            "6/6 [==============================] - 0s 340us/sample - loss: 1.3948\n",
            "Epoch 26/100\n",
            "6/6 [==============================] - 0s 306us/sample - loss: 1.3369\n",
            "Epoch 27/100\n",
            "6/6 [==============================] - 0s 221us/sample - loss: 1.2864\n",
            "Epoch 28/100\n",
            "6/6 [==============================] - 0s 222us/sample - loss: 1.2419\n",
            "Epoch 29/100\n",
            "6/6 [==============================] - 0s 421us/sample - loss: 1.2022\n",
            "Epoch 30/100\n",
            "6/6 [==============================] - 0s 311us/sample - loss: 1.1663\n",
            "Epoch 31/100\n",
            "6/6 [==============================] - 0s 331us/sample - loss: 1.1335\n",
            "Epoch 32/100\n",
            "6/6 [==============================] - 0s 223us/sample - loss: 1.1033\n",
            "Epoch 33/100\n",
            "6/6 [==============================] - 0s 218us/sample - loss: 1.0752\n",
            "Epoch 34/100\n",
            "6/6 [==============================] - 0s 447us/sample - loss: 1.0488\n",
            "Epoch 35/100\n",
            "6/6 [==============================] - 0s 184us/sample - loss: 1.0239\n",
            "Epoch 36/100\n",
            "6/6 [==============================] - 0s 207us/sample - loss: 1.0002\n",
            "Epoch 37/100\n",
            "6/6 [==============================] - 0s 355us/sample - loss: 0.9775\n",
            "Epoch 38/100\n",
            "6/6 [==============================] - 0s 245us/sample - loss: 0.9558\n",
            "Epoch 39/100\n",
            "6/6 [==============================] - 0s 305us/sample - loss: 0.9349\n",
            "Epoch 40/100\n",
            "6/6 [==============================] - 0s 229us/sample - loss: 0.9147\n",
            "Epoch 41/100\n",
            "6/6 [==============================] - 0s 425us/sample - loss: 0.8951\n",
            "Epoch 42/100\n",
            "6/6 [==============================] - 0s 278us/sample - loss: 0.8761\n",
            "Epoch 43/100\n",
            "6/6 [==============================] - 0s 337us/sample - loss: 0.8576\n",
            "Epoch 44/100\n",
            "6/6 [==============================] - 0s 457us/sample - loss: 0.8396\n",
            "Epoch 45/100\n",
            "6/6 [==============================] - 0s 1ms/sample - loss: 0.8220\n",
            "Epoch 46/100\n",
            "6/6 [==============================] - 0s 311us/sample - loss: 0.8049\n",
            "Epoch 47/100\n",
            "6/6 [==============================] - 0s 258us/sample - loss: 0.7882\n",
            "Epoch 48/100\n",
            "6/6 [==============================] - 0s 486us/sample - loss: 0.7718\n",
            "Epoch 49/100\n",
            "6/6 [==============================] - 0s 361us/sample - loss: 0.7558\n",
            "Epoch 50/100\n",
            "6/6 [==============================] - 0s 359us/sample - loss: 0.7402\n",
            "Epoch 51/100\n",
            "6/6 [==============================] - 0s 258us/sample - loss: 0.7250\n",
            "Epoch 52/100\n",
            "6/6 [==============================] - 0s 253us/sample - loss: 0.7100\n",
            "Epoch 53/100\n",
            "6/6 [==============================] - 0s 462us/sample - loss: 0.6954\n",
            "Epoch 54/100\n",
            "6/6 [==============================] - 0s 314us/sample - loss: 0.6811\n",
            "Epoch 55/100\n",
            "6/6 [==============================] - 0s 395us/sample - loss: 0.6670\n",
            "Epoch 56/100\n",
            "6/6 [==============================] - 0s 419us/sample - loss: 0.6533\n",
            "Epoch 57/100\n",
            "6/6 [==============================] - 0s 486us/sample - loss: 0.6399\n",
            "Epoch 58/100\n",
            "6/6 [==============================] - 0s 322us/sample - loss: 0.6267\n",
            "Epoch 59/100\n",
            "6/6 [==============================] - 0s 386us/sample - loss: 0.6138\n",
            "Epoch 60/100\n",
            "6/6 [==============================] - 0s 380us/sample - loss: 0.6012\n",
            "Epoch 61/100\n",
            "6/6 [==============================] - 0s 446us/sample - loss: 0.5889\n",
            "Epoch 62/100\n",
            "6/6 [==============================] - 0s 439us/sample - loss: 0.5768\n",
            "Epoch 63/100\n",
            "6/6 [==============================] - 0s 230us/sample - loss: 0.5649\n",
            "Epoch 64/100\n",
            "6/6 [==============================] - 0s 304us/sample - loss: 0.5533\n",
            "Epoch 65/100\n",
            "6/6 [==============================] - 0s 295us/sample - loss: 0.5419\n",
            "Epoch 66/100\n",
            "6/6 [==============================] - 0s 306us/sample - loss: 0.5308\n",
            "Epoch 67/100\n",
            "6/6 [==============================] - 0s 281us/sample - loss: 0.5199\n",
            "Epoch 68/100\n",
            "6/6 [==============================] - 0s 302us/sample - loss: 0.5092\n",
            "Epoch 69/100\n",
            "6/6 [==============================] - 0s 277us/sample - loss: 0.4988\n",
            "Epoch 70/100\n",
            "6/6 [==============================] - 0s 217us/sample - loss: 0.4885\n",
            "Epoch 71/100\n",
            "6/6 [==============================] - 0s 228us/sample - loss: 0.4785\n",
            "Epoch 72/100\n",
            "6/6 [==============================] - 0s 463us/sample - loss: 0.4686\n",
            "Epoch 73/100\n",
            "6/6 [==============================] - 0s 403us/sample - loss: 0.4590\n",
            "Epoch 74/100\n",
            "6/6 [==============================] - 0s 367us/sample - loss: 0.4496\n",
            "Epoch 75/100\n",
            "6/6 [==============================] - 0s 277us/sample - loss: 0.4404\n",
            "Epoch 76/100\n",
            "6/6 [==============================] - 0s 349us/sample - loss: 0.4313\n",
            "Epoch 77/100\n",
            "6/6 [==============================] - 0s 278us/sample - loss: 0.4225\n",
            "Epoch 78/100\n",
            "6/6 [==============================] - 0s 377us/sample - loss: 0.4138\n",
            "Epoch 79/100\n",
            "6/6 [==============================] - 0s 466us/sample - loss: 0.4053\n",
            "Epoch 80/100\n",
            "6/6 [==============================] - 0s 300us/sample - loss: 0.3970\n",
            "Epoch 81/100\n",
            "6/6 [==============================] - 0s 414us/sample - loss: 0.3888\n",
            "Epoch 82/100\n",
            "6/6 [==============================] - 0s 304us/sample - loss: 0.3808\n",
            "Epoch 83/100\n",
            "6/6 [==============================] - 0s 629us/sample - loss: 0.3730\n",
            "Epoch 84/100\n",
            "6/6 [==============================] - 0s 267us/sample - loss: 0.3653\n",
            "Epoch 85/100\n",
            "6/6 [==============================] - 0s 564us/sample - loss: 0.3578\n",
            "Epoch 86/100\n",
            "6/6 [==============================] - 0s 265us/sample - loss: 0.3505\n",
            "Epoch 87/100\n",
            "6/6 [==============================] - 0s 308us/sample - loss: 0.3433\n",
            "Epoch 88/100\n",
            "6/6 [==============================] - 0s 628us/sample - loss: 0.3362\n",
            "Epoch 89/100\n",
            "6/6 [==============================] - 0s 280us/sample - loss: 0.3293\n",
            "Epoch 90/100\n",
            "6/6 [==============================] - 0s 502us/sample - loss: 0.3226\n",
            "Epoch 91/100\n",
            "6/6 [==============================] - 0s 288us/sample - loss: 0.3159\n",
            "Epoch 92/100\n",
            "6/6 [==============================] - 0s 621us/sample - loss: 0.3094\n",
            "Epoch 93/100\n",
            "6/6 [==============================] - 0s 271us/sample - loss: 0.3031\n",
            "Epoch 94/100\n",
            "6/6 [==============================] - 0s 362us/sample - loss: 0.2969\n",
            "Epoch 95/100\n",
            "6/6 [==============================] - 0s 638us/sample - loss: 0.2908\n",
            "Epoch 96/100\n",
            "6/6 [==============================] - 0s 402us/sample - loss: 0.2848\n",
            "Epoch 97/100\n",
            "6/6 [==============================] - 0s 368us/sample - loss: 0.2789\n",
            "Epoch 98/100\n",
            "6/6 [==============================] - 0s 286us/sample - loss: 0.2732\n",
            "Epoch 99/100\n",
            "6/6 [==============================] - 0s 494us/sample - loss: 0.2676\n",
            "Epoch 100/100\n",
            "6/6 [==============================] - 0s 309us/sample - loss: 0.2621\n"
          ],
          "name": "stdout"
        },
        {
          "output_type": "execute_result",
          "data": {
            "text/plain": [
              "<tensorflow.python.keras.callbacks.History at 0x7f9ca04bcba8>"
            ]
          },
          "metadata": {
            "tags": []
          },
          "execution_count": 29
        }
      ]
    },
    {
      "cell_type": "code",
      "metadata": {
        "id": "GlR5MnZ9tNv-",
        "colab_type": "code",
        "colab": {
          "base_uri": "https://localhost:8080/",
          "height": 34
        },
        "outputId": "578b3bce-f6b2-40bd-a825-d300e7938bd7"
      },
      "source": [
        "print(model.predict([5]))"
      ],
      "execution_count": 30,
      "outputs": [
        {
          "output_type": "stream",
          "text": [
            "[[8.588659]]\n"
          ],
          "name": "stdout"
        }
      ]
    },
    {
      "cell_type": "code",
      "metadata": {
        "id": "T-BHljb5tTxu",
        "colab_type": "code",
        "colab": {}
      },
      "source": [
        ""
      ],
      "execution_count": 0,
      "outputs": []
    }
  ]
}